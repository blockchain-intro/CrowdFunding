{
 "cells": [
  {
   "cell_type": "code",
   "execution_count": 1,
   "metadata": {},
   "outputs": [],
   "source": [
    "from crowd_funding import crowd_funding\n",
    "from lib.utils import read_params"
   ]
  },
  {
   "cell_type": "code",
   "execution_count": 2,
   "metadata": {},
   "outputs": [],
   "source": [
    "# 初始状态\n",
    "context = {\n",
    "    'price': -1,\n",
    "    'total': 0,\n",
    "    'closed': True,\n",
    "    'joinPrice': 0,\n",
    "    'joined': False,\n",
    "    'endDate': \"2022-12-31 23:59:59\",\n",
    "    'isAuthor': True,\n",
    "    'out_of_date': True,\n",
    "}"
   ]
  },
  {
   "cell_type": "markdown",
   "metadata": {},
   "source": [
    "## 初始化TOM客户端\n",
    "测试交易"
   ]
  },
  {
   "cell_type": "code",
   "execution_count": 3,
   "metadata": {},
   "outputs": [],
   "source": [
    "# 接入当前合约\n",
    "contract_conf = {\n",
    "    'abi_path': './contract/abi.json',\n",
    "    'bin_path': './contract/bin.txt'\n",
    "}"
   ]
  },
  {
   "cell_type": "code",
   "execution_count": 4,
   "metadata": {},
   "outputs": [],
   "source": [
    "infura_conf = read_params('./config/env.ini', 'infura')\n",
    "tom = read_params('./config/env.ini', 'TOM')\n",
    "provider_ = infura_conf['endpoint'] + infura_conf['project_id']"
   ]
  },
  {
   "cell_type": "code",
   "execution_count": 5,
   "metadata": {},
   "outputs": [
    {
     "ename": "TypeError",
     "evalue": "Client.__init__() missing 3 required positional arguments: 'provider', 'private_key', and 'contract_conf'",
     "output_type": "error",
     "traceback": [
      "\u001b[0;31m---------------------------------------------------------------------------\u001b[0m",
      "\u001b[0;31mTypeError\u001b[0m                                 Traceback (most recent call last)",
      "\u001b[1;32m/workspaces/CrowdFunding/code/01_contract_interact.ipynb Cell 6\u001b[0m in \u001b[0;36m<cell line: 1>\u001b[0;34m()\u001b[0m\n\u001b[0;32m----> <a href='vscode-notebook-cell://codespaces%2Bmuzhi1920-blockchain-intro-crowdfunding-j4wgg674h79/workspaces/CrowdFunding/code/01_contract_interact.ipynb#ch0000005vscode-remote?line=0'>1</a>\u001b[0m tom_cli \u001b[39m=\u001b[39m crowd_funding(provider\u001b[39m=\u001b[39;49mprovider_, private_key\u001b[39m=\u001b[39;49mtom[\u001b[39m'\u001b[39;49m\u001b[39mkey\u001b[39;49m\u001b[39m'\u001b[39;49m], contract_conf\u001b[39m=\u001b[39;49mcontract_conf, context\u001b[39m=\u001b[39;49mcontext)\n",
      "File \u001b[0;32m/workspaces/CrowdFunding/code/crowd_funding.py:19\u001b[0m, in \u001b[0;36mcrowd_funding.__init__\u001b[0;34m(self, provider, private_key, contract_conf, context, **kwargs)\u001b[0m\n\u001b[1;32m     15\u001b[0m \u001b[39mdef\u001b[39;00m \u001b[39m__init__\u001b[39m(\u001b[39mself\u001b[39m, provider, private_key, contract_conf, context, \u001b[39m*\u001b[39m\u001b[39m*\u001b[39mkwargs):\n\u001b[1;32m     17\u001b[0m     \u001b[39mself\u001b[39m\u001b[39m.\u001b[39m_context \u001b[39m=\u001b[39m context\n\u001b[0;32m---> 19\u001b[0m     \u001b[39msuper\u001b[39;49m(crowd_funding, \u001b[39mself\u001b[39;49m)\u001b[39m.\u001b[39;49m\u001b[39m__init__\u001b[39;49m(\u001b[39m*\u001b[39;49m\u001b[39m*\u001b[39;49mkwargs)\n",
      "\u001b[0;31mTypeError\u001b[0m: Client.__init__() missing 3 required positional arguments: 'provider', 'private_key', and 'contract_conf'"
     ]
    }
   ],
   "source": [
    "tom_cli = crowd_funding(provider=provider_, private_key=tom['key'], contract_conf=contract_conf, context=context)"
   ]
  },
  {
   "cell_type": "code",
   "execution_count": null,
   "metadata": {},
   "outputs": [],
   "source": []
  }
 ],
 "metadata": {
  "kernelspec": {
   "display_name": "Python 3.10.4 64-bit",
   "language": "python",
   "name": "python3"
  },
  "language_info": {
   "codemirror_mode": {
    "name": "ipython",
    "version": 3
   },
   "file_extension": ".py",
   "mimetype": "text/x-python",
   "name": "python",
   "nbconvert_exporter": "python",
   "pygments_lexer": "ipython3",
   "version": "3.10.4"
  },
  "orig_nbformat": 4,
  "vscode": {
   "interpreter": {
    "hash": "4f946df053fbf2b937619d3c5458e7af74262f9a954d8797ba0b27400bcafe06"
   }
  }
 },
 "nbformat": 4,
 "nbformat_minor": 2
}
