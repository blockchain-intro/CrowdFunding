{
 "cells": [
  {
   "cell_type": "code",
   "execution_count": 1,
   "metadata": {},
   "outputs": [],
   "source": [
    "from crowd_funding import crowd_funding\n",
    "from lib.utils import read_params"
   ]
  },
  {
   "cell_type": "code",
   "execution_count": 2,
   "metadata": {},
   "outputs": [],
   "source": [
    "# 初始状态\n",
    "context = {\n",
    "    'price': -1,\n",
    "    'total': 0,\n",
    "    'closed': True,\n",
    "    'joinPrice': 0,\n",
    "    'joined': False,\n",
    "    'endDate': \"2022-12-31 23:59:59\",\n",
    "    'isAuthor': True,\n",
    "    'out_of_date': True,\n",
    "}"
   ]
  },
  {
   "cell_type": "markdown",
   "metadata": {},
   "source": [
    "## 初始化TOM客户端\n",
    "测试交易"
   ]
  },
  {
   "cell_type": "code",
   "execution_count": 3,
   "metadata": {},
   "outputs": [],
   "source": [
    "# 接入当前合约\n",
    "contract_conf = {\n",
    "    'abi_path': './contract/abi.json',\n",
    "    'bin_path': './contract/bin.txt'\n",
    "}"
   ]
  },
  {
   "cell_type": "code",
   "execution_count": 4,
   "metadata": {},
   "outputs": [],
   "source": [
    "infura_conf = read_params('./config/env.ini', 'infura')\n",
    "tom = read_params('./config/env.ini', 'TOM')\n",
    "provider_ = infura_conf['endpoint'] + infura_conf['project_id']"
   ]
  },
  {
   "cell_type": "code",
   "execution_count": 5,
   "metadata": {},
   "outputs": [
    {
     "name": "stdout",
     "output_type": "stream",
     "text": [
      "cur contract address :0x782255536609103c88267Af3cB5A460A1d1413a1, functions set :[<Function author()>, <Function closed()>, <Function endTime()>, <Function getAuthor()>, <Function joined(address)>, <Function price()>, <Function withdraw()>, <Function withdrawFund()>]\n",
      "cur account:0xF1C76aa199e490ABC5C37a86142E2d11E5abED52, isConnected:True\n"
     ]
    }
   ],
   "source": [
    "tom_cli = crowd_funding(provider=provider_, private_key=tom['key'], contract_conf=contract_conf, context=context)"
   ]
  },
  {
   "cell_type": "code",
   "execution_count": null,
   "metadata": {},
   "outputs": [],
   "source": [
    "tom_cli"
   ]
  }
 ],
 "metadata": {
  "kernelspec": {
   "display_name": "Python 3.10.4 64-bit",
   "language": "python",
   "name": "python3"
  },
  "language_info": {
   "codemirror_mode": {
    "name": "ipython",
    "version": 3
   },
   "file_extension": ".py",
   "mimetype": "text/x-python",
   "name": "python",
   "nbconvert_exporter": "python",
   "pygments_lexer": "ipython3",
   "version": "3.10.4"
  },
  "orig_nbformat": 4,
  "vscode": {
   "interpreter": {
    "hash": "4f946df053fbf2b937619d3c5458e7af74262f9a954d8797ba0b27400bcafe06"
   }
  }
 },
 "nbformat": 4,
 "nbformat_minor": 2
}
