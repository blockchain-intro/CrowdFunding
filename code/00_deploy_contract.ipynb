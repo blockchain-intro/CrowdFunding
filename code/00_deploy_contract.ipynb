{
 "cells": [
  {
   "cell_type": "code",
   "execution_count": 1,
   "metadata": {},
   "outputs": [],
   "source": [
    "import solcx\n",
    "import json\n",
    "from lib.client import Client\n",
    "from lib.utils import read_params"
   ]
  },
  {
   "cell_type": "markdown",
   "metadata": {},
   "source": [
    "## 编译合约"
   ]
  },
  {
   "cell_type": "code",
   "execution_count": 2,
   "metadata": {},
   "outputs": [],
   "source": [
    "res = solcx.compile_files(\n",
    "    [\"./contract/CrowdFunding.sol\"],\n",
    "    output_values=[\"abi\", \"bin\"])\n",
    "_key, _res = res.popitem()"
   ]
  },
  {
   "cell_type": "code",
   "execution_count": 3,
   "metadata": {},
   "outputs": [],
   "source": [
    "with open('./contract/abi.json', 'w')as f:\n",
    "    json.dump(_res['abi'], f)\n",
    "with open('./contract/bin.txt', 'w')as f:\n",
    "    f.write(_res['bin'])"
   ]
  },
  {
   "cell_type": "markdown",
   "metadata": {},
   "source": [
    "## 部署合约\n",
    "这里假定author自身部署"
   ]
  },
  {
   "cell_type": "code",
   "execution_count": 4,
   "metadata": {},
   "outputs": [],
   "source": [
    "infura_conf = read_params('./config/env.ini', 'infura')"
   ]
  },
  {
   "cell_type": "code",
   "execution_count": 5,
   "metadata": {},
   "outputs": [
    {
     "data": {
      "text/plain": [
       "({'address': '0xA1D91D7b6Bd771c53eF7B7d12805368B46E52467',\n",
       "  'key': '6e386a2de2dfac801bef3abcfcafbc6ac5892ff4168b0133fdbe787cc23be2c4'},\n",
       " 'https://ropsten.infura.io/v3/e98e8f4e0bd0476cbbd2839cc9a65aeb')"
      ]
     },
     "execution_count": 5,
     "metadata": {},
     "output_type": "execute_result"
    }
   ],
   "source": [
    "author = read_params('./config/env.ini', 'AUTHOR')\n",
    "provider_ = infura_conf['endpoint'] + infura_conf['project_id']\n",
    "author, provider_"
   ]
  },
  {
   "cell_type": "code",
   "execution_count": 6,
   "metadata": {},
   "outputs": [],
   "source": [
    "contract_conf = {\n",
    "    'abi_path': './contract/abi.json',\n",
    "    'bin_path': './contract/bin.txt'\n",
    "}"
   ]
  },
  {
   "cell_type": "code",
   "execution_count": 7,
   "metadata": {},
   "outputs": [
    {
     "name": "stdout",
     "output_type": "stream",
     "text": [
      "_bin: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\n",
      "cur contract address :0x3b8EDAAaB9bFc5bcA811FE5fcD67a5F1044FBdA7, functions set :[<Function author()>, <Function closed()>, <Function endTime()>, <Function getAuthor()>, <Function joined(address)>, <Function price()>, <Function withdraw()>, <Function withdrawFund()>]\n",
      "cur account:0xA1D91D7b6Bd771c53eF7B7d12805368B46E52467, isConnected:True\n"
     ]
    }
   ],
   "source": [
    "author_cli = Client(provider_, author['key'], contract_conf)"
   ]
  },
  {
   "cell_type": "code",
   "execution_count": 8,
   "metadata": {},
   "outputs": [
    {
     "data": {
      "text/plain": [
       "'0xA1D91D7b6Bd771c53eF7B7d12805368B46E52467'"
      ]
     },
     "execution_count": 8,
     "metadata": {},
     "output_type": "execute_result"
    }
   ],
   "source": [
    "author_cli._contract.functions.getAuthor().call()"
   ]
  },
  {
   "cell_type": "code",
   "execution_count": null,
   "metadata": {},
   "outputs": [],
   "source": []
  }
 ],
 "metadata": {
  "kernelspec": {
   "display_name": "Python 3.10.4 64-bit",
   "language": "python",
   "name": "python3"
  },
  "language_info": {
   "codemirror_mode": {
    "name": "ipython",
    "version": 3
   },
   "file_extension": ".py",
   "mimetype": "text/x-python",
   "name": "python",
   "nbconvert_exporter": "python",
   "pygments_lexer": "ipython3",
   "version": "3.10.4"
  },
  "orig_nbformat": 4,
  "vscode": {
   "interpreter": {
    "hash": "4f946df053fbf2b937619d3c5458e7af74262f9a954d8797ba0b27400bcafe06"
   }
  }
 },
 "nbformat": 4,
 "nbformat_minor": 2
}
